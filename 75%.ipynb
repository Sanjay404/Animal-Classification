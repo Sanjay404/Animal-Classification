{
 "cells": [
  {
   "cell_type": "code",
   "execution_count": 1,
   "metadata": {
    "colab": {},
    "colab_type": "code",
    "id": "nXlJTBiZ-oEO"
   },
   "outputs": [],
   "source": [
    "import tensorflow as tf\n",
    "import zipfile\n",
    "import os\n",
    "\n",
    "#zip_ref = zipfile.ZipFile('drive/My Drive/Colab Notebooks/ALL DATA/smaller_animals.zip', 'r')\n",
    "#zip_ref.extractall(path='drive/My Drive/Colab Notebooks/ALL DATA/animals') # unzip file\n",
    "#zip_ref.close()\n",
    "\n",
    "#!unzip -q 'drive/My Drive/Colab Notebooks/ALL DATA/zips/smaller_animals.zip' -d 'drive/My Drive/Colab Notebooks/ALL DATA/animals'"
   ]
  },
  {
   "cell_type": "code",
   "execution_count": 2,
   "metadata": {
    "colab": {},
    "colab_type": "code",
    "id": "qMjJ6B1hGqPT"
   },
   "outputs": [],
   "source": [
    "#!rm -rf '/content/drive/My Drive/Colab Notebooks/ALL DATA/__MACOSX'"
   ]
  },
  {
   "cell_type": "code",
   "execution_count": 3,
   "metadata": {
    "colab": {
     "base_uri": "https://localhost:8080/",
     "height": 34
    },
    "colab_type": "code",
    "id": "bOsgQrkG-sMN",
    "outputId": "e358608b-ea91-48a3-c8a2-201bb0e61cee"
   },
   "outputs": [
    {
     "name": "stdout",
     "output_type": "stream",
     "text": [
      "[DATA] READ IN ZIP\n"
     ]
    }
   ],
   "source": [
    "#base_dir = \"drive/My Drive/Colab Notebooks/ALL DATA/animals\"\n",
    "base_dir = '/home/srikumar/Desktop/'\n",
    "#base_dir = \"/Users/sanjay/Desktop/CODE/Python/Animal-Classification/DATA\"\n",
    "class_names = ['cat', 'lynx', 'wolf', 'coyote', 'cheetah', 'jaguar', 'chimpanzee', 'orangutan', 'hamster', 'guinea pig']\n",
    "print('[DATA] READ IN ZIP')\n",
    "date_base = os.path.join(base_dir,'animals')\n"
   ]
  },
  {
   "cell_type": "code",
   "execution_count": 4,
   "metadata": {
    "colab": {
     "base_uri": "https://localhost:8080/",
     "height": 34
    },
    "colab_type": "code",
    "id": "XxlxiEPV-wE7",
    "outputId": "e5a7ee83-e99c-4a86-ab68-35d1da864b46"
   },
   "outputs": [
    {
     "name": "stdout",
     "output_type": "stream",
     "text": [
      "training\n",
      "testing\n",
      "done!\n"
     ]
    }
   ],
   "source": [
    "import os.path\n",
    "from os import path\n",
    "import glob\n",
    "import shutil\n",
    "for folder in os.listdir(date_base):\n",
    "  print(folder)\n",
    "  if(folder =='.DS_Store'):\n",
    "    continue\n",
    "  if not(path.exists(os.path.join(date_base, folder,'sorted'))): #makes sorted folder \n",
    "    print('Made sorted in ', folder )\n",
    "    os.mkdir(os.path.join(date_base, folder,'sorted'))\n",
    "  #Splits up images into categorized directories\n",
    "  for image in os.listdir(os.path.join(date_base, folder)):\n",
    "    if not('_img_' in image):\n",
    "      continue\n",
    "    animal = image.split(\"_img_\")[0]\n",
    "    target_dir = os.path.join(date_base,folder,'sorted',animal)\n",
    "    if not os.path.isdir(target_dir):\n",
    "        os.mkdir(target_dir)\n",
    "    if not path.exists(os.path.join(target_dir, image)): #if image hasnt been copied over\n",
    "        shutil.copy(os.path.join(date_base,folder,image), os.path.join(target_dir,image))  \n",
    "print('done!') \n",
    "\n"
   ]
  },
  {
   "cell_type": "markdown",
   "metadata": {
    "colab_type": "text",
    "id": "42G9vwJndT2Q"
   },
   "source": [
    "# Keras ImageDataGenerator/Images as numpy array\n",
    "\n",
    "---\n",
    "\n"
   ]
  },
  {
   "cell_type": "code",
   "execution_count": 7,
   "metadata": {
    "colab": {
     "base_uri": "https://localhost:8080/",
     "height": 299
    },
    "colab_type": "code",
    "id": "aMKwbrybdVGf",
    "outputId": "edd151b9-b200-4a4a-d2d1-13a27d37872d"
   },
   "outputs": [
    {
     "name": "stdout",
     "output_type": "stream",
     "text": [
      "Found 10993 images belonging to 10 classes.\n",
      "Found 44006 images belonging to 10 classes.\n",
      "running1\n",
      "finished running1\n",
      "running2\n",
      "done\n"
     ]
    }
   ],
   "source": [
    "from keras.preprocessing.image import ImageDataGenerator\n",
    "from tensorflow.keras.optimizers import *\n",
    "from keras.preprocessing.image import img_to_array\n",
    "from imutils import paths\n",
    "import numpy as np\n",
    "import os\n",
    "import cv2\n",
    "\n",
    "\n",
    "train_datagen = ImageDataGenerator(\n",
    "    rescale=1. / 255,\n",
    "    shear_range=0.2,\n",
    "    zoom_range=0.2,\n",
    "    horizontal_flip=True\n",
    "    )\n",
    "\n",
    "test_datagen = ImageDataGenerator(rescale=1. / 255)\n",
    "train_generator = train_datagen.flow_from_directory(\n",
    "    os.path.join(date_base, 'training', 'sorted'),\n",
    "    target_size=(128, 128),\n",
    "    batch_size=32,\n",
    "    class_mode='categorical')\n",
    "\n",
    "test_generator = test_datagen.flow_from_directory(\n",
    "    os.path.join(date_base, 'testing', 'sorted'),\n",
    "    target_size=(128, 128),\n",
    "    batch_size=32,\n",
    "    class_mode='categorical')\n",
    "\n",
    "#Data in np arrays\n",
    "data = []\n",
    "labels = []\n",
    "print('running1')\n",
    "imagePaths = sorted(list(paths.list_images(date_base+'/training')))\n",
    "for imagePath in imagePaths:\n",
    "\t#load the image, pre-process it, and store it in the data list\n",
    "\timage = cv2.imread(imagePath)\n",
    "\ttry:\n",
    "\t\timage = cv2.resize(image,(28,28))\n",
    "\t\timage = img_to_array(image)\n",
    "\t\tdata.append(image)\n",
    "\t\t# extract the class label from the image path and update the labels list\n",
    "\t\tlabel = imagePath.split(os.path.sep)[-1]\n",
    "\t\tlabels.append(label[0]) #strips the number label from the front\n",
    "\texcept:\n",
    "\t\tprint('Skipped')\n",
    " # scale the raw pixel intensities to the range [0, 1]\n",
    "data = np.array(data, dtype=\"float\") / 255.0\n",
    "labels = np.array(labels)\n",
    "x_train, y_train = data, labels\n",
    "\n",
    "print('finished running1')\n",
    "\n",
    "#Data in np arrays\n",
    "data = []\n",
    "labels = []\n",
    "print('running2')\n",
    "\n",
    "imagePaths = sorted(list(paths.list_images(date_base+'/testing')))\n",
    "for imagePath in imagePaths:\n",
    "\t#load the image, pre-process it, and store it in the data list\n",
    "  image = cv2.imread(imagePath)\n",
    "  try:\n",
    "    image = cv2.resize(image,(28,28))\n",
    "    image = img_to_array(image)\n",
    "    data.append(image)\n",
    "\t\t# extract the class label from the image path and update the labels list\n",
    "    label = imagePath.split(os.path.sep)[-1]\n",
    "    labels.append(label[0]) #strips the number label from the front\n",
    "  except:\n",
    "    print('Skipped')\n",
    " # scale the raw pixel intensities to the range [0, 1]\n",
    "data = np.array(data, dtype=\"float\") / 255.0\n",
    "labels = np.array(labels)\n",
    "x_test, y_test = data, labels\n",
    "\n",
    "# Normalizing the input image\n",
    "x_train = x_train.astype('float32')/255\n",
    "x_test = x_test.astype('float32')/255\n",
    "\n",
    "#Converting labels to categorical\n",
    "y_train = tf.keras.utils.to_categorical(y_train, num_classes=10)\n",
    "y_test = tf.keras.utils.to_categorical(y_test, num_classes=10)\n",
    "\n",
    "print('done')"
   ]
  },
  {
   "cell_type": "markdown",
   "metadata": {
    "colab_type": "text",
    "id": "GPi9y5mEaEjM"
   },
   "source": [
    "# Models"
   ]
  },
  {
   "cell_type": "markdown",
   "metadata": {
    "colab_type": "text",
    "id": "ot9OPyevaHFx"
   },
   "source": [
    "### CNN"
   ]
  },
  {
   "cell_type": "code",
   "execution_count": null,
   "metadata": {
    "colab": {
     "base_uri": "https://localhost:8080/",
     "height": 392
    },
    "colab_type": "code",
    "id": "1mFEvY9raDsa",
    "outputId": "f3a879b4-7a58-47d2-de0c-52a4357262dd"
   },
   "outputs": [],
   "source": [
    "import keras\n",
    "import tensorflow as tf\n",
    "from keras.datasets import cifar10\n",
    "from keras.preprocessing.image import ImageDataGenerator\n",
    "from keras.models import Sequential\n",
    "from keras.layers import Dense, Dropout, Activation, Flatten\n",
    "from keras.layers.normalization import BatchNormalization\n",
    "from keras.layers import Conv2D, MaxPooling2D\n",
    "from keras.regularizers import l2\n",
    "import numpy as np\n",
    "\n",
    "class CNN:\n",
    "  @staticmethod\n",
    "  def build():\n",
    "    model = Sequential()\n",
    "    model.add(Conv2D(32, (3, 3), padding='same',input_shape=(128,128,3)))\n",
    "    model.add(Activation('relu'))\n",
    "    model.add(BatchNormalization())\n",
    "    model.add(Conv2D(32, (3, 3)))\n",
    "    model.add(Activation('relu'))\n",
    "    model.add(BatchNormalization())\n",
    "    model.add(MaxPooling2D(pool_size=(2, 2)))\n",
    "    model.add(Dropout(0.25))\n",
    "\n",
    "    model.add(Conv2D(64, (3, 3), padding='same'))\n",
    "    model.add(Activation('relu'))\n",
    "    model.add(BatchNormalization())\n",
    "    model.add(Conv2D(64, (3, 3)))\n",
    "    model.add(Activation('relu'))\n",
    "    model.add(BatchNormalization())\n",
    "    model.add(MaxPooling2D(pool_size=(2, 2)))\n",
    "    model.add(Dropout(0.25))\n",
    "\n",
    "    model.add(Conv2D(128, (3, 3), padding='same'))\n",
    "    model.add(Activation('relu'))\n",
    "    model.add(BatchNormalization())\n",
    "    model.add(Conv2D(128, (3, 3)))\n",
    "    model.add(Activation('relu'))\n",
    "    model.add(BatchNormalization())\n",
    "    model.add(MaxPooling2D(pool_size=(2, 2)))\n",
    "    model.add(Dropout(0.25))\n",
    "\n",
    "    model.add(Flatten())\n",
    "    model.add(Dense(512,kernel_regularizer=l2(0.01)))\n",
    "    model.add(Activation('relu'))\n",
    "    model.add(Dropout(0.5))\n",
    "    model.add(Dense(len(class_names)))\n",
    "    model.add(Activation('softmax'))\n",
    "    return model\n",
    "\n",
    "CNN_Model = CNN.build()\n",
    "CNN_Model.compile(loss='categorical_crossentropy',\n",
    "              optimizer='sgd',\n",
    "              metrics=['accuracy'])\n",
    "\n",
    "\n",
    "history = CNN_Model.fit_generator(\n",
    "    train_generator, \n",
    "    steps_per_epoch=160, #5097 images/batches of 128 = ~160\n",
    "    epochs=30, \n",
    "    validation_data= test_generator, \n",
    "    validation_steps=33,#1063 images/batchest of 32= 33\n",
    "    verbose=1 #how much to display when training occurs.@2, hides epoch progress\n",
    ")\n",
    "\n",
    "      \n",
    "  "
   ]
  },
  {
   "cell_type": "markdown",
   "metadata": {
    "colab_type": "text",
    "id": "vrfqh9qnaIoj"
   },
   "source": [
    "### VGG19"
   ]
  },
  {
   "cell_type": "code",
   "execution_count": 9,
   "metadata": {},
   "outputs": [
    {
     "name": "stdout",
     "output_type": "stream",
     "text": [
      "Epoch 1/50\n",
      "880/880 [==============================] - 168s 191ms/step - loss: 1.2495 - acc: 0.5386 - val_loss: 0.8902 - val_acc: 0.6804\n",
      "Epoch 2/50\n",
      "880/880 [==============================] - 153s 174ms/step - loss: 0.7275 - acc: 0.7348 - val_loss: 0.8035 - val_acc: 0.7142\n",
      "Epoch 3/50\n",
      "880/880 [==============================] - 153s 174ms/step - loss: 0.5630 - acc: 0.7940 - val_loss: 0.8133 - val_acc: 0.7217\n",
      "Epoch 4/50\n",
      "880/880 [==============================] - 154s 175ms/step - loss: 0.4283 - acc: 0.8436 - val_loss: 0.8678 - val_acc: 0.7186\n",
      "Epoch 5/50\n",
      "880/880 [==============================] - 153s 174ms/step - loss: 0.3397 - acc: 0.8735 - val_loss: 1.0005 - val_acc: 0.7132\n",
      "Epoch 6/50\n",
      "880/880 [==============================] - 153s 174ms/step - loss: 0.2697 - acc: 0.9026 - val_loss: 0.9208 - val_acc: 0.7389\n",
      "Epoch 7/50\n",
      "880/880 [==============================] - 153s 174ms/step - loss: 0.2037 - acc: 0.9265 - val_loss: 1.1361 - val_acc: 0.7219\n",
      "Epoch 8/50\n",
      "880/880 [==============================] - 154s 175ms/step - loss: 0.1631 - acc: 0.9432 - val_loss: 1.5474 - val_acc: 0.6595\n",
      "Epoch 9/50\n",
      "880/880 [==============================] - 153s 173ms/step - loss: 0.1323 - acc: 0.9547 - val_loss: 1.1370 - val_acc: 0.7380\n",
      "Epoch 10/50\n",
      "880/880 [==============================] - 153s 174ms/step - loss: 0.0885 - acc: 0.9724 - val_loss: 1.0803 - val_acc: 0.7466\n",
      "Epoch 11/50\n",
      "880/880 [==============================] - 153s 174ms/step - loss: 0.0436 - acc: 0.9877 - val_loss: 1.1399 - val_acc: 0.7398\n",
      "Epoch 12/50\n",
      "880/880 [==============================] - 153s 174ms/step - loss: 0.0376 - acc: 0.9890 - val_loss: 1.0961 - val_acc: 0.7483\n",
      "Epoch 13/50\n",
      "880/880 [==============================] - 153s 174ms/step - loss: 0.0338 - acc: 0.9903 - val_loss: 1.1568 - val_acc: 0.7436\n",
      "Epoch 14/50\n",
      "880/880 [==============================] - 152s 173ms/step - loss: 0.0315 - acc: 0.9907 - val_loss: 1.1225 - val_acc: 0.7526\n",
      "Epoch 15/50\n",
      "880/880 [==============================] - 153s 174ms/step - loss: 0.0298 - acc: 0.9914 - val_loss: 1.1690 - val_acc: 0.7479\n",
      "Epoch 16/50\n",
      "880/880 [==============================] - 153s 174ms/step - loss: 0.0267 - acc: 0.9920 - val_loss: 1.1446 - val_acc: 0.7524\n",
      "Epoch 17/50\n",
      "880/880 [==============================] - 153s 174ms/step - loss: 0.0266 - acc: 0.9918 - val_loss: 1.1725 - val_acc: 0.7514\n",
      "Epoch 18/50\n",
      "880/880 [==============================] - 153s 174ms/step - loss: 0.0240 - acc: 0.9931 - val_loss: 1.2109 - val_acc: 0.7491\n",
      "Epoch 19/50\n",
      "880/880 [==============================] - 152s 173ms/step - loss: 0.0222 - acc: 0.9936 - val_loss: 1.1799 - val_acc: 0.7516\n",
      "Epoch 20/50\n",
      "880/880 [==============================] - 153s 174ms/step - loss: 0.0222 - acc: 0.9934 - val_loss: 1.2517 - val_acc: 0.7427\n",
      "Epoch 21/50\n",
      "880/880 [==============================] - 153s 174ms/step - loss: 0.0216 - acc: 0.9939 - val_loss: 1.2008 - val_acc: 0.7573\n",
      "Epoch 22/50\n",
      "880/880 [==============================] - 152s 173ms/step - loss: 0.0210 - acc: 0.9940 - val_loss: 1.2245 - val_acc: 0.7513\n",
      "Epoch 23/50\n",
      "880/880 [==============================] - 153s 173ms/step - loss: 0.0191 - acc: 0.9945 - val_loss: 1.2320 - val_acc: 0.7522\n",
      "Epoch 24/50\n",
      "880/880 [==============================] - 153s 174ms/step - loss: 0.0189 - acc: 0.9945 - val_loss: 1.2402 - val_acc: 0.7560\n",
      "Epoch 25/50\n",
      "880/880 [==============================] - 152s 173ms/step - loss: 0.0171 - acc: 0.9951 - val_loss: 1.2363 - val_acc: 0.7526\n",
      "Epoch 26/50\n",
      "880/880 [==============================] - 153s 174ms/step - loss: 0.0178 - acc: 0.9946 - val_loss: 1.3199 - val_acc: 0.7470\n",
      "Epoch 27/50\n",
      "880/880 [==============================] - 152s 173ms/step - loss: 0.0160 - acc: 0.9953 - val_loss: 1.2755 - val_acc: 0.7479\n",
      "Epoch 28/50\n",
      "880/880 [==============================] - 152s 173ms/step - loss: 0.0171 - acc: 0.9947 - val_loss: 1.3242 - val_acc: 0.7510\n",
      "Epoch 29/50\n",
      "880/880 [==============================] - 153s 174ms/step - loss: 0.0153 - acc: 0.9951 - val_loss: 1.2706 - val_acc: 0.7556\n",
      "Epoch 30/50\n",
      "880/880 [==============================] - 153s 173ms/step - loss: 0.0160 - acc: 0.9952 - val_loss: 1.2871 - val_acc: 0.7571\n",
      "Epoch 31/50\n",
      "880/880 [==============================] - 152s 173ms/step - loss: 0.0150 - acc: 0.9955 - val_loss: 1.3155 - val_acc: 0.7546\n",
      "Epoch 32/50\n",
      "880/880 [==============================] - 152s 173ms/step - loss: 0.0144 - acc: 0.9955 - val_loss: 1.3657 - val_acc: 0.7503\n",
      "Epoch 33/50\n",
      "880/880 [==============================] - 152s 173ms/step - loss: 0.0147 - acc: 0.9953 - val_loss: 1.2868 - val_acc: 0.7540\n",
      "Epoch 34/50\n",
      "880/880 [==============================] - 152s 173ms/step - loss: 0.0129 - acc: 0.9962 - val_loss: 1.4256 - val_acc: 0.7403\n",
      "Epoch 35/50\n",
      "880/880 [==============================] - 153s 174ms/step - loss: 0.0131 - acc: 0.9961 - val_loss: 1.3500 - val_acc: 0.7511\n",
      "Epoch 36/50\n",
      "880/880 [==============================] - 152s 173ms/step - loss: 0.0127 - acc: 0.9964 - val_loss: 1.3389 - val_acc: 0.7511\n",
      "Epoch 37/50\n",
      "880/880 [==============================] - 152s 172ms/step - loss: 0.0137 - acc: 0.9959 - val_loss: 1.3527 - val_acc: 0.7568\n",
      "Epoch 38/50\n",
      "880/880 [==============================] - 152s 173ms/step - loss: 0.0126 - acc: 0.9958 - val_loss: 1.3798 - val_acc: 0.7484\n",
      "Epoch 39/50\n",
      "880/880 [==============================] - 152s 172ms/step - loss: 0.0121 - acc: 0.9961 - val_loss: 1.4054 - val_acc: 0.7517\n",
      "Epoch 40/50\n",
      "880/880 [==============================] - 152s 173ms/step - loss: 0.0124 - acc: 0.9956 - val_loss: 1.3904 - val_acc: 0.7486\n",
      "Epoch 41/50\n",
      "880/880 [==============================] - 152s 173ms/step - loss: 0.0124 - acc: 0.9961 - val_loss: 1.3998 - val_acc: 0.7541\n",
      "Epoch 42/50\n",
      "880/880 [==============================] - 153s 174ms/step - loss: 0.0112 - acc: 0.9966 - val_loss: 1.4218 - val_acc: 0.7456\n",
      "Epoch 43/50\n",
      "880/880 [==============================] - 153s 174ms/step - loss: 0.0117 - acc: 0.9964 - val_loss: 1.3429 - val_acc: 0.7643\n",
      "Epoch 44/50\n",
      "880/880 [==============================] - 152s 172ms/step - loss: 0.0117 - acc: 0.9967 - val_loss: 1.4326 - val_acc: 0.7479\n",
      "Epoch 45/50\n",
      "880/880 [==============================] - 152s 173ms/step - loss: 0.0114 - acc: 0.9961 - val_loss: 1.4684 - val_acc: 0.7517\n",
      "Epoch 46/50\n",
      "880/880 [==============================] - 151s 172ms/step - loss: 0.0100 - acc: 0.9971 - val_loss: 1.4529 - val_acc: 0.7483\n",
      "Epoch 47/50\n",
      "880/880 [==============================] - 152s 173ms/step - loss: 0.0106 - acc: 0.9962 - val_loss: 1.4195 - val_acc: 0.7513\n",
      "Epoch 48/50\n",
      "880/880 [==============================] - 151s 172ms/step - loss: 0.0114 - acc: 0.9960 - val_loss: 1.4992 - val_acc: 0.7441\n",
      "Epoch 49/50\n",
      "880/880 [==============================] - 152s 172ms/step - loss: 0.0105 - acc: 0.9964 - val_loss: 1.4193 - val_acc: 0.7520\n",
      "Epoch 50/50\n",
      "880/880 [==============================] - 152s 172ms/step - loss: 0.0105 - acc: 0.9963 - val_loss: 1.4774 - val_acc: 0.7521\n"
     ]
    }
   ],
   "source": [
    "#importing other required libraries\n",
    "import numpy as np\n",
    "import pandas as pd\n",
    "from sklearn.utils.multiclass import unique_labels\n",
    "import matplotlib.pyplot as plt\n",
    "import matplotlib.image as mpimg\n",
    "import seaborn as sns\n",
    "import itertools\n",
    "from sklearn.model_selection import train_test_split\n",
    "from sklearn.metrics import confusion_matrix\n",
    "from keras import Sequential\n",
    "from keras.applications import VGG19, VGG16, ResNet50\n",
    "from keras.preprocessing.image import ImageDataGenerator\n",
    "from keras.optimizers import SGD,Adam\n",
    "from keras.callbacks import ReduceLROnPlateau\n",
    "from keras.layers import Flatten, Dense, BatchNormalization, Activation,Dropout\n",
    "from keras.utils import to_categorical\n",
    "import tensorflow as tf\n",
    "import random\n",
    "\n",
    "#Defining the hyperparameters\n",
    "batch_size= 100\n",
    "epochs=50\n",
    "learn_rate=.001\n",
    "sgd=SGD(lr=learn_rate,momentum=.9,nesterov=False)\n",
    "lrr= ReduceLROnPlateau(monitor='val_acc', factor=.01,  patience=3, min_lr=1e-5)\n",
    "base_model_VGG19 = VGG19(include_top=False, weights='imagenet', input_shape=(128,128,3), classes=y_train.shape[1])\n",
    "class VGG19:\n",
    "        @staticmethod\n",
    "        def build():\n",
    "            model = Sequential()\n",
    "            model.add(base_model_VGG19) \n",
    "            model.add(Flatten()) \n",
    "            model.add(Dense(1024,activation=('relu'),input_dim=512))\n",
    "            model.add(Dense(512,activation=('relu'))) \n",
    "            model.add(Dense(256,activation=('relu'))) \n",
    "            #model_vgg19.add(Dropout(.3))\n",
    "            model.add(Dense(128,activation=('relu')))\n",
    "            #model_vgg19.add(Dropout(.2))\n",
    "            model.add(Dense(10,activation=('softmax')))\n",
    "            return model\n",
    "\n",
    "#Compiling the VGG19 model\n",
    "VGG19_model = VGG19.build()\n",
    "VGG19_model.compile(optimizer=sgd,loss='categorical_crossentropy',metrics=['accuracy'])\n",
    "history = VGG19_model.fit_generator(\n",
    "    train_generator, \n",
    "    steps_per_epoch=880, #1024 images/batches of 128 = 8\n",
    "    epochs=50, \n",
    "    validation_data= test_generator, \n",
    "    validation_steps=219, #256 images/batchest of 32 = 8\n",
    "    callbacks = [lrr],\n",
    "    verbose=1 #how much to display when training occurs.@2, hides epoch progress\n",
    ")\n",
    "\n"
   ]
  },
  {
   "cell_type": "markdown",
   "metadata": {
    "colab_type": "text",
    "id": "OyDNB0ldlvom"
   },
   "source": [
    "### Plotting Training Accuracy"
   ]
  },
  {
   "cell_type": "code",
   "execution_count": 11,
   "metadata": {
    "colab": {},
    "colab_type": "code",
    "id": "Rs9S4MCplu2E"
   },
   "outputs": [
    {
     "data": {
      "text/plain": [
       "<matplotlib.legend.Legend at 0x7f322d50eeb8>"
      ]
     },
     "execution_count": 11,
     "metadata": {},
     "output_type": "execute_result"
    },
    {
     "data": {
      "image/png": "[encoded data removed]",
      "text/plain": [
       "<Figure size 432x288 with 1 Axes>"
      ]
     },
     "metadata": {
      "needs_background": "light"
     },
     "output_type": "display_data"
    }
   ],
   "source": [
    "train_acc = history.history['acc']\n",
    "validation_acc = history.history['val_acc']\n",
    "epochs = range(1,EPOCHS+1)\n",
    "plt.plot(epochs,train_acc,'bo',label='Training Accuracy')\n",
    "plt.plot(epochs,validation_acc,'b',label='Validation Accuracy')\n",
    "plt.title('Training and Validation Accuracy')\n",
    "plt.legend()"
   ]
  },
  {
   "cell_type": "markdown",
   "metadata": {},
   "source": [
    "model.save()"
   ]
  },
  {
   "cell_type": "markdown",
   "metadata": {
    "colab_type": "text",
    "id": "MnUg64-eaxOi"
   },
   "source": [
    "# Upload and Test\n"
   ]
  },
  {
   "cell_type": "code",
   "execution_count": null,
   "metadata": {
    "colab": {},
    "colab_type": "code",
    "id": "aUYIAhRAawO-"
   },
   "outputs": [],
   "source": [
    "import numpy as np\n",
    "from google.colab import files\n",
    "from keras.preprocessing import image\n",
    "import matplotlib.pyplot as plt\n",
    "\n",
    "uploaded = files.upload()\n",
    "\n",
    "for fn in uploaded.keys():\n",
    " \n",
    "  # predicting images\n",
    "  path = '/content/' + fn\n",
    "  img = image.load_img(path, target_size=(128, 128))\n",
    "  x = image.img_to_array(img)\n",
    "  x = np.expand_dims(x, axis=0)\n",
    "  imgplot = plt.imshow(img)\n",
    "  plt.show() \n",
    "  images = np.vstack([x])\n",
    "  classes = CNN_Model.predict(images, batch_size=1)\n",
    "  print(type(classes))\n",
    "  index_min = np.argmin(classes)\n",
    "  print(fn + f\" is a {class_names[index_min]}\")"
   ]
  },
  {
   "cell_type": "code",
   "execution_count": null,
   "metadata": {},
   "outputs": [],
   "source": []
  }
 ],
 "metadata": {
  "accelerator": "GPU",
  "colab": {
   "collapsed_sections": [],
   "name": "animal_using_datagenerator.ipynb",
   "provenance": []
  },
  "kernelspec": {
   "display_name": "Python 3.6.8 64-bit ('base': conda)",
   "language": "python",
   "name": "python36864bitbaseconda5f2a6790dbda41f0a211fc9e594bb2a3"
  },
  "language_info": {
   "codemirror_mode": {
    "name": "ipython",
    "version": 3
   },
   "file_extension": ".py",
   "mimetype": "text/x-python",
   "name": "python",
   "nbconvert_exporter": "python",
   "pygments_lexer": "ipython3",
   "version": "3.6.8"
  }
 },
 "nbformat": 4,
 "nbformat_minor": 1
}
