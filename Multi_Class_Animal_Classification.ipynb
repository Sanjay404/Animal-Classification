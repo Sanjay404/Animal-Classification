{
  "cells": [
    {
      "cell_type": "markdown",
      "metadata": {
        "id": "Q-aVM7ZT1uFQ",
        "colab_type": "text"
      },
      "source": [
        "# Create path to images\n",
        "### Path can be in google drive or local path"
      ]
    },
    {
      "cell_type": "code",
      "metadata": {
        "id": "pHdcAEBp208l",
        "colab_type": "code",
        "colab": {
          "base_uri": "https://localhost:8080/",
          "height": 122
        },
        "outputId": "4c1630f6-dc22-44a8-8b71-57dc3d6e9ad2"
      },
      "source": [
        "from google.colab import drive\n",
        "drive.mount('/content/drive')"
      ],
      "execution_count": 1,
      "outputs": [
        {
          "output_type": "stream",
          "text": [
            "Go to this URL in a browser: https://accounts.google.com/o/oauth2/auth?client_id=947318989803-6bn6qk8qdgf4n4g3pfee6491hc0brc4i.apps.googleusercontent.com&redirect_uri=urn%3aietf%3awg%3aoauth%3a2.0%3aoob&response_type=code&scope=email%20https%3a%2f%2fwww.googleapis.com%2fauth%2fdocs.test%20https%3a%2f%2fwww.googleapis.com%2fauth%2fdrive%20https%3a%2f%2fwww.googleapis.com%2fauth%2fdrive.photos.readonly%20https%3a%2f%2fwww.googleapis.com%2fauth%2fpeopleapi.readonly\n",
            "\n",
            "Enter your authorization code:\n",
            "··········\n",
            "Mounted at /content/drive\n"
          ],
          "name": "stdout"
        }
      ]
    },
    {
      "cell_type": "code",
      "metadata": {
        "colab_type": "code",
        "id": "bOsgQrkG-sMN",
        "outputId": "4593b729-08cb-4017-9e21-7fe91ad92b58",
        "colab": {
          "base_uri": "https://localhost:8080/",
          "height": 34
        }
      },
      "source": [
        "import os\n",
        "base_dir = \"drive/My Drive/Colab Notebooks/ALL DATA/animals\" # FOR DRIVE\n",
        "#base_dir = '/home/srikumar/Desktop/'. #UBUNTU\n",
        "#base_dir = \"/Users/sanjay/Desktop/CODE/Python/Animal-Classification/DATA\" #MACBOOK\n",
        "class_names = ['cat', 'lynx', 'wolf', 'coyote', 'cheetah', 'jaguar', 'chimpanzee', 'orangutan', 'hamster', 'guinea pig']\n",
        "print('[DATA] READ IN ZIP')\n",
        "date_base = os.path.join(base_dir,'animals')"
      ],
      "execution_count": 3,
      "outputs": [
        {
          "output_type": "stream",
          "text": [
            "[DATA] READ IN ZIP\n"
          ],
          "name": "stdout"
        }
      ]
    },
    {
      "cell_type": "markdown",
      "metadata": {
        "id": "nGnbi9Z21-CL",
        "colab_type": "text"
      },
      "source": [
        "### Splits images by the Categories defined above"
      ]
    },
    {
      "cell_type": "code",
      "metadata": {
        "colab_type": "code",
        "id": "XxlxiEPV-wE7",
        "outputId": "e5a7ee83-e99c-4a86-ab68-35d1da864b46",
        "colab": {
          "base_uri": "https://localhost:8080/",
          "height": 34
        }
      },
      "source": [
        "import os.path\n",
        "from os import path\n",
        "import glob\n",
        "import shutil\n",
        "for folder in os.listdir(date_base):\n",
        "  print(folder)\n",
        "  if(folder =='.DS_Store'):\n",
        "    continue\n",
        "  if not(path.exists(os.path.join(date_base, folder,'sorted'))): #makes sorted folder \n",
        "    print('Made sorted in ', folder )\n",
        "    os.mkdir(os.path.join(date_base, folder,'sorted'))\n",
        "  #Splits up images into categorized directories\n",
        "  for image in os.listdir(os.path.join(date_base, folder)):\n",
        "    if not('_img_' in image):\n",
        "      continue\n",
        "    animal = image.split(\"_img_\")[0]\n",
        "    target_dir = os.path.join(date_base,folder,'sorted',animal)\n",
        "    if not os.path.isdir(target_dir):\n",
        "        os.mkdir(target_dir)\n",
        "    if not path.exists(os.path.join(target_dir, image)): #if image hasnt been copied over\n",
        "        shutil.copy(os.path.join(date_base,folder,image), os.path.join(target_dir,image))  \n",
        "print('done!') \n"
      ],
      "execution_count": 0,
      "outputs": [
        {
          "output_type": "stream",
          "text": [
            "training\n",
            "testing\n",
            "done!\n"
          ],
          "name": "stdout"
        }
      ]
    },
    {
      "cell_type": "markdown",
      "metadata": {
        "colab_type": "text",
        "id": "42G9vwJndT2Q"
      },
      "source": [
        "# Keras ImageDataGenerator/Images as numpy array\n",
        "\n",
        "---\n",
        "\n"
      ]
    },
    {
      "cell_type": "code",
      "metadata": {
        "colab_type": "code",
        "id": "aMKwbrybdVGf",
        "outputId": "edd151b9-b200-4a4a-d2d1-13a27d37872d",
        "colab": {
          "base_uri": "https://localhost:8080/",
          "height": 299
        }
      },
      "source": [
        "from keras.preprocessing.image import ImageDataGenerator\n",
        "from tensorflow.keras.optimizers import *\n",
        "from keras.preprocessing.image import img_to_array\n",
        "from imutils import paths\n",
        "import numpy as np\n",
        "import os\n",
        "import cv2\n",
        "shape = (128,128)\n",
        "\n",
        "train_datagen = ImageDataGenerator(\n",
        "    rescale=1. / 255,\n",
        "    shear_range=0.2,\n",
        "    zoom_range=0.2,\n",
        "    horizontal_flip=True\n",
        "    )\n",
        "\n",
        "test_datagen = ImageDataGenerator(rescale=1. / 255)\n",
        "train_generator = train_datagen.flow_from_directory(\n",
        "    os.path.join(date_base, 'training', 'sorted'),\n",
        "    target_size=shape,\n",
        "    batch_size=32,\n",
        "    class_mode='categorical')\n",
        "\n",
        "test_generator = test_datagen.flow_from_directory(\n",
        "    os.path.join(date_base, 'testing', 'sorted'),\n",
        "    target_size=shape,\n",
        "    batch_size=32,\n",
        "    class_mode='categorical')\n",
        "#FOR USE IF NOT USING KERAS IMAGE DATA GENERATOR\n",
        "'''\n",
        "#Data in np arrays\n",
        "data = []\n",
        "labels = []\n",
        "print('running1')\n",
        "imagePaths = sorted(list(paths.list_images(date_base+'/training')))\n",
        "for imagePath in imagePaths:\n",
        "\t#load the image, pre-process it, and store it in the data list\n",
        "\timage = cv2.imread(imagePath)\n",
        "\ttry:\n",
        "\t\timage = cv2.resize(image,shape)\n",
        "\t\timage = img_to_array(image)\n",
        "\t\tdata.append(image)\n",
        "\t\t# extract the class label from the image path and update the labels list\n",
        "\t\tlabel = imagePath.split(os.path.sep)[-1]\n",
        "\t\tlabels.append(label[0]) #strips the number label from the front\n",
        "\texcept:\n",
        "\t\tprint('Skipped')\n",
        " # scale the raw pixel intensities to the range [0, 1]\n",
        "data = np.array(data, dtype=\"float\") / 255.0\n",
        "labels = np.array(labels)\n",
        "x_train, y_train = data, labels\n",
        "\n",
        "print('finished running1')\n",
        "\n",
        "#Data in np arrays\n",
        "data = []\n",
        "labels = []\n",
        "print('running2')\n",
        "\n",
        "imagePaths = sorted(list(paths.list_images(date_base+'/testing')))\n",
        "for imagePath in imagePaths:\n",
        "\t#load the image, pre-process it, and store it in the data list\n",
        "  image = cv2.imread(imagePath)\n",
        "  try:\n",
        "    image = cv2.resize(image,shape)\n",
        "    image = img_to_array(image)\n",
        "    data.append(image)\n",
        "\t\t# extract the class label from the image path and update the labels list\n",
        "    label = imagePath.split(os.path.sep)[-1]\n",
        "    labels.append(label[0]) #strips the number label from the front\n",
        "  except:\n",
        "    print('Skipped')\n",
        " # scale the raw pixel intensities to the range [0, 1]\n",
        "data = np.array(data, dtype=\"float\") / 255.0\n",
        "labels = np.array(labels)\n",
        "x_test, y_test = data, labels\n",
        "\n",
        "# Normalizing the input image\n",
        "x_train = x_train.astype('float32')/255\n",
        "x_test = x_test.astype('float32')/255\n",
        "\n",
        "#Converting labels to categorical\n",
        "y_train = tf.keras.utils.to_categorical(y_train, num_classes=10)\n",
        "y_test = tf.keras.utils.to_categorical(y_test, num_classes=10)\n",
        "'''\n",
        "print('done')"
      ],
      "execution_count": 0,
      "outputs": [
        {
          "output_type": "stream",
          "text": [
            "Using TensorFlow backend.\n"
          ],
          "name": "stderr"
        },
        {
          "output_type": "stream",
          "text": [
            "Found 10993 images belonging to 10 classes.\n",
            "Found 44006 images belonging to 10 classes.\n",
            "done\n"
          ],
          "name": "stdout"
        }
      ]
    },
    {
      "cell_type": "markdown",
      "metadata": {
        "colab_type": "text",
        "id": "GPi9y5mEaEjM"
      },
      "source": [
        "# Models"
      ]
    },
    {
      "cell_type": "markdown",
      "metadata": {
        "colab_type": "text",
        "id": "vrfqh9qnaIoj"
      },
      "source": [
        "### VGG19"
      ]
    },
    {
      "cell_type": "code",
      "metadata": {
        "id": "rNNOiUHIzv9_",
        "colab_type": "code",
        "colab": {},
        "outputId": "20dc385a-17b2-4053-e7f8-9abca2eabbd8"
      },
      "source": [
        "#importing other required libraries\n",
        "import numpy as np\n",
        "import pandas as pd\n",
        "from sklearn.utils.multiclass import unique_labels\n",
        "import matplotlib.pyplot as plt\n",
        "import matplotlib.image as mpimg\n",
        "import seaborn as sns\n",
        "import itertools\n",
        "from sklearn.model_selection import train_test_split\n",
        "from sklearn.metrics import confusion_matrix\n",
        "from keras import Sequential\n",
        "from keras.applications import VGG19, VGG16, ResNet50\n",
        "from keras.preprocessing.image import ImageDataGenerator\n",
        "from keras.optimizers import SGD,Adam\n",
        "from keras.callbacks import ReduceLROnPlateau\n",
        "from keras.layers import Flatten, Dense, BatchNormalization, Activation,Dropout\n",
        "from keras.utils import to_categorical\n",
        "import tensorflow as tf\n",
        "import random\n",
        "shape = (128,128)\n",
        "\n",
        "#Defining the hyperparameters\n",
        "batch_size= 100\n",
        "EPOCHS = 20\n",
        "learn_rate=.001\n",
        "sgd=SGD(lr=learn_rate,momentum=.9,nesterov=False)\n",
        "lrr= ReduceLROnPlateau(monitor='val_acc', factor=.01,  patience=3, min_lr=1e-5)\n",
        "base_model_VGG19 = VGG19(include_top=False, weights='imagenet', input_shape=(shape[0],shape[1],3), classes= len(class_names))\n",
        "#y_train.shape[1]\n",
        "class endTraining(tf.keras.callbacks.Callback):\n",
        "  def on_epoch_end(self, epoch, logs={}):\n",
        "    if(logs.get('val_acc')>=.70 and logs.get('acc')>=.85):\n",
        "      print(\"\\nReached 80% validation accuracy so cancelling training!\")\n",
        "      self.model.stop_training = True\n",
        "stop_training= endTraining()      \n",
        "class VGG19:\n",
        "        @staticmethod\n",
        "        def build():\n",
        "            model = Sequential()\n",
        "            model.add(base_model_VGG19) \n",
        "            model.add(Flatten()) \n",
        "            model.add(Dense(1024,activation=('relu'),input_dim=512))\n",
        "            model.add(Dense(512,activation=('relu'))) \n",
        "            model.add(Dense(256,activation=('relu'))) \n",
        "            #model_vgg19.add(Dropout(.3))\n",
        "            model.add(Dense(128,activation=('relu')))\n",
        "            #model_vgg19.add(Dropout(.2))\n",
        "            model.add(Dense(10,activation=('softmax')))\n",
        "            return model\n",
        "\n",
        "#Compiling the VGG19 model\n",
        "VGG19_model = VGG19.build()\n",
        "if os.path.isfile('/content/drive/My Drive/Colab Notebooks/VGG19A_Animal_Classifier.h5'):\n",
        "  VGG19_model.load_weights('/content/drive/My Drive/Colab Notebooks/VGG19A_Animal_Classifier.h5')\n",
        "else:\n",
        "  VGG19_model.compile(optimizer=sgd,loss='categorical_crossentropy',metrics=['accuracy'])\n",
        "  history = VGG19_model.fit_generator(\n",
        "      train_generator, \n",
        "      steps_per_epoch=800, #44006 images/batches of 880 = 8 OR 5100\n",
        "      epochs=EPOCHS, \n",
        "      validation_data= test_generator, \n",
        "      validation_steps=160, #10993 images/batchest of 219 = 8 OR 1060\n",
        "      callbacks = [lrr,stop_training],\n",
        "      verbose=1 #how much to display when training occurs.@2, hides epoch progress\n",
        "  )\n"
      ],
      "execution_count": 0,
      "outputs": [
        {
          "output_type": "stream",
          "text": [
            "Epoch 1/20\n",
            "800/800 [==============================] - 146s 182ms/step - loss: 1.2783 - acc: 0.5246 - val_loss: 0.8886 - val_acc: 0.6729\n",
            "Epoch 2/20\n",
            "800/800 [==============================] - 137s 171ms/step - loss: 0.7717 - acc: 0.7172 - val_loss: 0.8256 - val_acc: 0.7039\n",
            "Epoch 3/20\n",
            "800/800 [==============================] - 137s 171ms/step - loss: 0.5960 - acc: 0.7813 - val_loss: 0.7850 - val_acc: 0.7229\n",
            "Epoch 4/20\n",
            "800/800 [==============================] - 137s 172ms/step - loss: 0.4551 - acc: 0.8291 - val_loss: 0.8232 - val_acc: 0.7318\n",
            "Epoch 5/20\n",
            "800/800 [==============================] - 138s 173ms/step - loss: 0.3802 - acc: 0.8608 - val_loss: 0.8761 - val_acc: 0.7291\n",
            "\n",
            "Reached 80% validation accuracy so cancelling training!\n"
          ],
          "name": "stdout"
        }
      ]
    },
    {
      "cell_type": "code",
      "metadata": {
        "id": "XSViZCLzzv-C",
        "colab_type": "code",
        "colab": {},
        "outputId": "4c977874-c309-4dba-c270-c5845eecc83e"
      },
      "source": [
        "VGG19_model.save(\"VGG19A_Animal_Classifier.h5\")\n",
        "print(\"Saved model to disk\")"
      ],
      "execution_count": 0,
      "outputs": [
        {
          "output_type": "stream",
          "text": [
            "Saved model to disk\n"
          ],
          "name": "stdout"
        }
      ]
    },
    {
      "cell_type": "markdown",
      "metadata": {
        "colab_type": "text",
        "id": "OyDNB0ldlvom"
      },
      "source": [
        "### Plotting Training Accuracy"
      ]
    },
    {
      "cell_type": "code",
      "metadata": {
        "id": "crqMx8WDzv-E",
        "colab_type": "code",
        "colab": {},
        "outputId": "faad86c6-68f8-486c-f568-5e61b3e29f2e"
      },
      "source": [
        "train_loss = history.history['loss']\n",
        "train_acc = history.history['acc']\n",
        "val_loss = history.history['val_loss']\n",
        "val_acc = history.history['val_acc']\n",
        "\n",
        "import keras\n",
        "from matplotlib import pyplot as plt\n",
        "plt.plot(history.history['acc'])\n",
        "plt.plot(history.history['val_acc'])\n",
        "\n",
        "plt.title('Model Accuracy')\n",
        "plt.ylabel('accuracy')\n",
        "plt.xlabel('epoch')\n",
        "plt.legend(['training', 'validation'], loc='upper right')\n",
        "plt.show()\n",
        "\n",
        "plt.plot(history.history['loss'])\n",
        "plt.plot(history.history['val_loss'])\n",
        "plt.title('Model Loss')\n",
        "plt.ylabel('Loss')\n",
        "plt.xlabel('epoch')\n",
        "plt.legend(['training', ' validation'], loc='upper right')\n",
        "plt.show()"
      ],
      "execution_count": 0,
      "outputs": [
        {
          "output_type": "display_data",
          "data": {
            "image/png": "[encoded data removed]",
            "text/plain": [
              "<Figure size 432x288 with 1 Axes>"
            ]
          },
          "metadata": {
            "tags": [],
            "needs_background": "light"
          }
        },
        {
          "output_type": "display_data",
          "data": {
            "image/png": "[encoded data removed]",
            "text/plain": [
              "<Figure size 432x288 with 1 Axes>"
            ]
          },
          "metadata": {
            "tags": [],
            "needs_background": "light"
          }
        }
      ]
    },
    {
      "cell_type": "markdown",
      "metadata": {
        "colab_type": "text",
        "id": "MnUg64-eaxOi"
      },
      "source": [
        "# Upload and Test"
      ]
    },
    {
      "cell_type": "markdown",
      "metadata": {
        "id": "OHZsLzMf0cAV",
        "colab_type": "text"
      },
      "source": [
        "### For use on Jupyter Notebook"
      ]
    },
    {
      "cell_type": "code",
      "metadata": {
        "id": "0VWBBJFTzv-H",
        "colab_type": "code",
        "colab": {}
      },
      "source": [
        "import os\n",
        "import ipywidgets as widgets\n",
        "class FileBrowser(object):\n",
        "    def __init__(self):\n",
        "        self.path = os.getcwd()\n",
        "        self._update_files()\n",
        "    def _update_files(self):\n",
        "        self.files = list()\n",
        "        self.dirs = list()\n",
        "        if(os.path.isdir(self.path)):\n",
        "            for f in os.listdir(self.path):\n",
        "                ff = os.path.join(self.path, f)\n",
        "                if os.path.isdir(ff):\n",
        "                    self.dirs.append(f)\n",
        "                else:\n",
        "                    self.files.append(f)\n",
        "    def widget(self):\n",
        "        box = widgets.VBox()\n",
        "        self._update(box)\n",
        "        return box\n",
        "    def _update(self, box):\n",
        "        def on_click(b):\n",
        "            if b.description == '..':\n",
        "                self.path = os.path.split(self.path)[0]\n",
        "            else:\n",
        "                self.path = os.path.join(self.path, b.description)\n",
        "            self._update_files()\n",
        "            self._update(box)\n",
        "        buttons = []\n",
        "        if self.files:\n",
        "            button = widgets.Button(description='..', background_color='#d0d0ff')\n",
        "            button.on_click(on_click)\n",
        "            buttons.append(button)\n",
        "        for f in self.dirs:\n",
        "            button = widgets.Button(description=f, background_color='#d0d0ff')\n",
        "            button.on_click(on_click)\n",
        "            buttons.append(button)\n",
        "        for f in self.files:\n",
        "            button = widgets.Button(description=f)\n",
        "            button.on_click(on_click)\n",
        "            buttons.append(button)\n",
        "        box.children = tuple([widgets.HTML(\"<h2>%s</h2>\" % (self.path,))] + buttons)\n",
        "f = FileBrowser()\n",
        "f.widget()"
      ],
      "execution_count": 0,
      "outputs": []
    },
    {
      "cell_type": "code",
      "metadata": {
        "id": "oJuYZ6NFzv-K",
        "colab_type": "code",
        "colab": {},
        "outputId": "ff075010-d5e7-472d-8090-ef09264702bb"
      },
      "source": [
        "img = image.load_img(f.path, target_size= shape )\n",
        "x = image.img_to_array(img)\n",
        "x = np.expand_dims(x, axis=0)\n",
        "imgplot = plt.imshow(img)\n",
        "plt.show() \n",
        "images = np.vstack([x])\n",
        "classes = VGG19_model.predict(images, batch_size=1)\n",
        "index_max = np.argmax(classes)\n",
        "print(f\"{class_names[index_max]}\")"
      ],
      "execution_count": 0,
      "outputs": [
        {
          "output_type": "display_data",
          "data": {
            "image/png": "[encoded data removed]",
            "text/plain": [
              "<Figure size 432x288 with 1 Axes>"
            ]
          },
          "metadata": {
            "tags": [],
            "needs_background": "light"
          }
        },
        {
          "output_type": "stream",
          "text": [
            "<class 'numpy.ndarray'>\n",
            "lynx\n"
          ],
          "name": "stdout"
        }
      ]
    },
    {
      "cell_type": "markdown",
      "metadata": {
        "id": "uY3s_1Sj1FVR",
        "colab_type": "text"
      },
      "source": [
        "### For use on Google Colab"
      ]
    },
    {
      "cell_type": "code",
      "metadata": {
        "colab_type": "code",
        "id": "aUYIAhRAawO-",
        "colab": {}
      },
      "source": [
        "import numpy as np\n",
        "from google.colab import files\n",
        "from keras.preprocessing import image\n",
        "import matplotlib.pyplot as plt\n",
        "\n",
        "uploaded = files.upload()\n",
        "for fn in uploaded:\n",
        "  # predicting images\n",
        "  path = '/content/' + fn\n",
        "  img = image.load_img(path, target_size= shape )\n",
        "  x = image.img_to_array(img)\n",
        "  x = np.expand_dims(x, axis=0)\n",
        "  imgplot = plt.imshow(img)\n",
        "  plt.show() \n",
        "  images = np.vstack([x])\n",
        "  classes = VGG19_model.predict(images, batch_size=1)\n",
        "  print(classes)\n",
        "  index_min = np.argmin(classes)\n",
        "  print(fn + f\" is a {class_names[index_min]}\")"
      ],
      "execution_count": 0,
      "outputs": []
    }
  ],
  "metadata": {
    "accelerator": "GPU",
    "colab": {
      "name": "Multi-Class Animal Classification.ipynb",
      "provenance": [],
      "collapsed_sections": []
    },
    "kernelspec": {
      "display_name": "Python 3.6.8 64-bit ('base': conda)",
      "language": "python",
      "name": "python36864bitbaseconda5f2a6790dbda41f0a211fc9e594bb2a3"
    },
    "language_info": {
      "codemirror_mode": {
        "name": "ipython",
        "version": 3
      },
      "file_extension": ".py",
      "mimetype": "text/x-python",
      "name": "python",
      "nbconvert_exporter": "python",
      "pygments_lexer": "ipython3",
      "version": "3.6.8"
    }
  },
  "nbformat": 4,
  "nbformat_minor": 0
}